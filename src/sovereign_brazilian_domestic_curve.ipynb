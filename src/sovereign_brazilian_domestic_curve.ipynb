{
 "cells": [
  {
   "cell_type": "markdown",
   "metadata": {},
   "source": [
    "# Curva Zero-Cupom Brasil - Bootstrapping + NSS"
   ]
  },
  {
   "cell_type": "markdown",
   "metadata": {},
   "source": [
    "Taxas de títulos públicos calculadas pela Anbima: https://www.anbima.com.br/pt_br/informar/taxas-de-titulos-publicos.htm\n",
    "\n",
    "Curva de Juros: Gráficos Atualizados: https://clubedospoupadores.com/curva-de-juros\n",
    "\n",
    "Spread dos Títulos Públicos do Brasil: https://clubedospoupadores.com/curva-de-juros/spread\n",
    "\n",
    "Curva de Juros – Inflação Implícita: https://clubedospoupadores.com/curva-de-juros/inflacao\n",
    "\n",
    "seria possivel adicionar um colapse menu por ano?"
   ]
  },
  {
   "cell_type": "code",
   "execution_count": 1,
   "metadata": {
    "jupyter": {
     "is_executing": true
    }
   },
   "outputs": [
    {
     "data": {
      "application/vnd.jupyter.widget-view+json": {
       "model_id": "0fbaa4b102544296b9e4c7adb376c054",
       "version_major": 2,
       "version_minor": 0
      },
      "text/plain": [
       "HBox(children=(DatePicker(value=datetime.datetime(2025, 6, 19, 0, 0), description='Settle date:', step=1), But…"
      ]
     },
     "metadata": {},
     "output_type": "display_data"
    },
    {
     "data": {
      "application/vnd.jupyter.widget-view+json": {
       "model_id": "92f37081ff474544b168724c078ec0da",
       "version_major": 2,
       "version_minor": 0
      },
      "text/plain": [
       "Output()"
      ]
     },
     "metadata": {},
     "output_type": "display_data"
    }
   ],
   "source": [
    "import sys\n",
    "import numpy as np\n",
    "import pandas as pd\n",
    "import matplotlib.pyplot as plt\n",
    "from pandas import Timestamp\n",
    "from typing import Union\n",
    "from datetime import date, datetime\n",
    "from calendars.daycounts import DayCounts\n",
    "from calendars.custom_date_types import TODAY\n",
    "from finmath.termstructure.curve_models import CurveBootstrap, NelsonSiegelSvensson\n",
    "from finmath.brazilian_bonds.government_bonds import LTN, NTNF\n",
    "from pathlib import Path\n",
    "\n",
    "# Add the src directory to the Python module search path\n",
    "sys.path.append(str(Path().resolve()))\n",
    "import ipywidgets as widgets\n",
    "from IPython.display import display, clear_output\n",
    "from datetime import datetime\n",
    "\n",
    "# Widget for selecting the reference date\n",
    "ref_date_picker = widgets.DatePicker(\n",
    "    description='Settle date:',\n",
    "    value=datetime(2025, 6, 19),\n",
    "    disabled=False\n",
    ")\n",
    "\n",
    "run_button = widgets.Button(\n",
    "    description=\"Recalcular Curva\",\n",
    "    button_style='success'\n",
    ")\n",
    "\n",
    "output = widgets.Output()\n",
    "\n",
    "display(widgets.HBox([ref_date_picker, run_button]), output)"
   ]
  },
  {
   "cell_type": "code",
   "execution_count": 2,
   "metadata": {},
   "outputs": [],
   "source": [
    "def build_and_plot_curve(ref_date):\n",
    "\n",
    "\n",
    "\n",
    "    # Caminho do Excel\n",
    "    #file_path = r\"C:\\Users\\tsiqueira4\\OneDrive - Bloomberg LP\\Desktop\\master_thesis_economics\\datos_y_modelos\\Domestic\\domestic_sovereign_curve_brazil.xlsx\"\n",
    "    \n",
    "    # Sobe até a raiz do repo automaticamente\n",
    "    repo_root = Path.cwd()\n",
    "    while not (repo_root / \".git\").exists() and repo_root != repo_root.parent:\n",
    "        repo_root = repo_root.parent\n",
    "\n",
    "    file_path = repo_root / \"datos_y_modelos\" / \"Domestic\" / \"domestic_sovereign_curve_brazil.xlsx\"\n",
    "\n",
    "\n",
    "    # -----------------------------\n",
    "    # CARREGAR DADOS E SEPARAR TÍTULOS\n",
    "    # -----------------------------\n",
    "\n",
    "    df = pd.read_excel(file_path)\n",
    "    df['MATURITY'] = pd.to_datetime(df['MATURITY'])\n",
    "\n",
    "    # LTNs\n",
    "    ltn_df = df[df['papel'] == 'LTN'].copy()\n",
    "    ltn_df = ltn_df[['MATURITY', 'YAS_BOND_YLD']].dropna().sort_values('MATURITY')\n",
    "    ltn_expires = ltn_df['MATURITY'].dt.date.tolist()\n",
    "    ltn_yields = (ltn_df['YAS_BOND_YLD'].astype(float) / 100).tolist()\n",
    "\n",
    "    # NTN-Fs\n",
    "    ntnf_df = df[df['papel'] == 'NTNF'].copy()\n",
    "    ntnf_df = ntnf_df[['MATURITY', 'YAS_BOND_YLD']].dropna().sort_values('MATURITY')\n",
    "    ntnf_expires = ntnf_df['MATURITY'].dt.date.tolist()\n",
    "    ntnf_yields = (ntnf_df['YAS_BOND_YLD'].astype(float) / 100).tolist()\n",
    "\n",
    "    # -----------------------------\n",
    "    # OBJETOS DE TÍTULOS\n",
    "    # -----------------------------\n",
    "\n",
    "    ltn_prices, ltn_cash_flows = [], []\n",
    "    for T, y in zip(ltn_expires, ltn_yields):\n",
    "        bond = LTN(expiry=T, rate=y, ref_date=ref_date)\n",
    "        ltn_prices.append(bond.price)\n",
    "        ltn_cash_flows.append(pd.Series(index=[T], data=[bond.principal]))\n",
    "\n",
    "    ntnf_prices, ntnf_cash_flows = [], []\n",
    "    for T, y in zip(ntnf_expires, ntnf_yields):\n",
    "        bond = NTNF(expiry=T, rate=y, ref_date=ref_date)\n",
    "        ntnf_prices.append(bond.price)\n",
    "        ntnf_cash_flows.append(bond.cash_flows)\n",
    "\n",
    "    # -----------------------------\n",
    "    # BOOTSTRAP E NSS\n",
    "    # -----------------------------\n",
    "\n",
    "    all_prices = ltn_prices + ntnf_prices\n",
    "    all_cash_flows = ltn_cash_flows + ntnf_cash_flows\n",
    "    cb = CurveBootstrap(prices=all_prices, cash_flows=all_cash_flows, ref_date=ref_date)\n",
    "    zero_curve = cb.zero_curve.to_frame('zero')\n",
    "\n",
    "    dc = DayCounts('bus/252', calendar='cdr_anbima')\n",
    "    ltn_curve = pd.DataFrame(index=[dc.tf(ref_date, x) for x in ltn_expires],\n",
    "                             columns=['LTN'], data=ltn_yields)\n",
    "    ntnf_curve = pd.DataFrame(index=[dc.tf(ref_date, x) for x in ntnf_expires],\n",
    "                              columns=['NTNF'], data=ntnf_yields)\n",
    "\n",
    "    nss = NelsonSiegelSvensson(prices=all_prices, cash_flows=all_cash_flows, ref_date=ref_date)\n",
    "    nss_curve = pd.Series(index=zero_curve.index,\n",
    "                          data=[nss.rate_for_ytm(betas=nss.betas, ytm=t) for t in zero_curve.index],\n",
    "                          name='nss')\n",
    "\n",
    "    curves = pd.concat([zero_curve, ltn_curve, ntnf_curve, nss_curve.to_frame()], axis=1).sort_index()\n",
    "\n",
    "    # -----------------------------\n",
    "    # CURVAS INTERPOLADAS\n",
    "    # -----------------------------\n",
    "\n",
    "    x_dense = np.linspace(0.01, max(curves.index), 300)\n",
    "    y_dense_zero = [cb.rate_for_date(t) * 100 for t in x_dense]\n",
    "    y_dense_nss = [nss.rate_for_ytm(betas=nss.betas, ytm=t) * 100 for t in x_dense]\n",
    "\n",
    "    # -----------------------------\n",
    "    # PLOTAGEM\n",
    "    # -----------------------------\n",
    "\n",
    "    plt.figure(figsize=(15, 10))\n",
    "\n",
    "    # Curvas interpoladas\n",
    "    plt.plot(x_dense, y_dense_zero, label='Curva Zero (Bootstrap - Interpolada)', color='blue')\n",
    "    plt.plot(x_dense, y_dense_nss, label='Curva NSS (Interpolada)', color='darkorange')\n",
    "\n",
    "    # Pontos observados\n",
    "    plt.plot(curves.index, curves['LTN'] * 100, label='LTN Observada', linestyle='--', marker='x', color='green')\n",
    "    plt.plot(curves.index, curves['NTNF'] * 100, label='NTNF Observada', linestyle='--', marker='s', color='red')\n",
    "\n",
    "    # Rótulos dos vencimentos\n",
    "    for i, (x, y) in enumerate(zip(ltn_curve.index, ltn_curve['LTN'])):\n",
    "        plt.text(x, y * 100 + 0.05, f'LTN\\n{ltn_expires[i].strftime(\"%Y-%m-%d\")}', ha='center', fontsize=7)\n",
    "    for i, (x, y) in enumerate(zip(ntnf_curve.index, ntnf_curve['NTNF'])):\n",
    "        plt.text(x, y * 100 + 0.05, f'NTNF\\n{ntnf_expires[i].strftime(\"%Y-%m-%d\")}', ha='center', fontsize=7)\n",
    "\n",
    "    # Layout final\n",
    "    plt.title(f'Curva Zero-Cupom Brasil (Interpolada) — Settle date: {ref_date}', fontsize=20)\n",
    "    plt.xlabel('Prazo (anos)', fontsize=16)\n",
    "    plt.ylabel('Taxa (% a.a.)', fontsize=16)\n",
    "    plt.grid(True)\n",
    "    plt.legend(fontsize=12)\n",
    "    plt.tight_layout()\n",
    "    plt.show()\n",
    "                 \n",
    "    # -----------------------------\n",
    "    # TABELA DE DADOS OBSERVADOS\n",
    "    # -----------------------------\n",
    "\n",
    "    ltn_df_display = pd.DataFrame({\n",
    "        'Tipo': 'LTN',\n",
    "        'Maturity': ltn_expires,\n",
    "        'Yield (% a.a.)': [y * 100 for y in ltn_yields],\n",
    "        'T.Maturity (anos)': [dc.tf(ref_date, d) for d in ltn_expires]\n",
    "    })\n",
    "\n",
    "    ntnf_df_display = pd.DataFrame({\n",
    "        'Tipo': 'NTNF',\n",
    "        'Maturity': ntnf_expires,\n",
    "        'Yield (% a.a.)': [y * 100 for y in ntnf_yields],\n",
    "        'T.Maturity (anos)': [dc.tf(ref_date, d) for d in ntnf_expires]\n",
    "    })\n",
    "\n",
    "    tabela = pd.concat([ltn_df_display, ntnf_df_display], ignore_index=True).sort_values('T.Maturity (anos)')\n",
    "\n",
    "    print(\"Dados observados utilizados para as curvas:\")\n",
    "    display(tabela.style.format({\"Yield (% a.a.)\": \"{:.4f}\", \"T.Maturity (anos)\": \"{:.4f}\"}))\n",
    "\n"
   ]
  },
  {
   "cell_type": "code",
   "execution_count": 3,
   "metadata": {},
   "outputs": [],
   "source": [
    "def on_run_clicked(b):\n",
    "    with output:\n",
    "        clear_output(wait=True)\n",
    "        ref_date = ref_date_picker.value\n",
    "        build_and_plot_curve(ref_date)\n",
    "\n",
    "run_button.on_click(on_run_clicked)"
   ]
  },
  {
   "cell_type": "code",
   "execution_count": null,
   "metadata": {},
   "outputs": [],
   "source": []
  },
  {
   "cell_type": "code",
   "execution_count": null,
   "metadata": {},
   "outputs": [],
   "source": []
  }
 ],
 "metadata": {
  "kernelspec": {
   "display_name": "Python 3 (ipykernel)",
   "language": "python",
   "name": "python3"
  },
  "language_info": {
   "codemirror_mode": {
    "name": "ipython",
    "version": 3
   },
   "file_extension": ".py",
   "mimetype": "text/x-python",
   "name": "python",
   "nbconvert_exporter": "python",
   "pygments_lexer": "ipython3",
   "version": "3.12.1"
  }
 },
 "nbformat": 4,
 "nbformat_minor": 4
}
