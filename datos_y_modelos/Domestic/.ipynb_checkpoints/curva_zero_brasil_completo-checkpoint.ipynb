{
 "cells": [
  {
   "cell_type": "markdown",
   "metadata": {},
   "source": [
    "# Curva Zero-Cupom Brasil - Bootstrapping + NSS\n",
    "Este notebook contém todas as classes e a execução do modelo completo."
   ],
   "id": "3a9d28f406004f8"
  },
  {
   "cell_type": "code",
   "execution_count": 2,
   "metadata": {},
   "outputs": [
    {
     "ename": "ImportError",
     "evalue": "cannot import name 'DatetimeScalar' from 'pandas.core.tools.datetimes' (C:\\Anaconda3\\lib\\site-packages\\pandas\\core\\tools\\datetimes.py)",
     "output_type": "error",
     "traceback": [
      "\u001B[1;31m---------------------------------------------------------------------------\u001B[0m",
      "\u001B[1;31mImportError\u001B[0m                               Traceback (most recent call last)",
      "\u001B[1;32m<ipython-input-2-23b2ce62deb1>\u001B[0m in \u001B[0;36m<module>\u001B[1;34m\u001B[0m\n\u001B[0;32m      1\u001B[0m \u001B[1;32mfrom\u001B[0m \u001B[0mpandas\u001B[0m \u001B[1;32mimport\u001B[0m \u001B[0mTimestamp\u001B[0m\u001B[1;33m\u001B[0m\u001B[1;33m\u001B[0m\u001B[0m\n\u001B[1;32m----> 2\u001B[1;33m \u001B[1;32mfrom\u001B[0m \u001B[0mpandas\u001B[0m\u001B[1;33m.\u001B[0m\u001B[0mcore\u001B[0m\u001B[1;33m.\u001B[0m\u001B[0mtools\u001B[0m\u001B[1;33m.\u001B[0m\u001B[0mdatetimes\u001B[0m \u001B[1;32mimport\u001B[0m \u001B[0mDatetimeScalar\u001B[0m\u001B[1;33m\u001B[0m\u001B[1;33m\u001B[0m\u001B[0m\n\u001B[0m\u001B[0;32m      3\u001B[0m \u001B[1;32mfrom\u001B[0m \u001B[0mtyping\u001B[0m \u001B[1;32mimport\u001B[0m \u001B[0mUnion\u001B[0m\u001B[1;33m\u001B[0m\u001B[1;33m\u001B[0m\u001B[0m\n\u001B[0;32m      4\u001B[0m \u001B[1;32mfrom\u001B[0m \u001B[0mdatetime\u001B[0m \u001B[1;32mimport\u001B[0m \u001B[0mdate\u001B[0m\u001B[1;33m,\u001B[0m \u001B[0mdatetime\u001B[0m\u001B[1;33m\u001B[0m\u001B[1;33m\u001B[0m\u001B[0m\n\u001B[0;32m      5\u001B[0m \u001B[1;32mfrom\u001B[0m \u001B[0mnumpy\u001B[0m\u001B[1;33m.\u001B[0m\u001B[0mcore\u001B[0m \u001B[1;32mimport\u001B[0m \u001B[0mdatetime64\u001B[0m\u001B[1;33m\u001B[0m\u001B[1;33m\u001B[0m\u001B[0m\n",
      "\u001B[1;31mImportError\u001B[0m: cannot import name 'DatetimeScalar' from 'pandas.core.tools.datetimes' (C:\\Anaconda3\\lib\\site-packages\\pandas\\core\\tools\\datetimes.py)"
     ]
    }
   ],
   "source": [
    "from pandas import Timestamp\n",
    "from pandas.core.tools.datetimes import DatetimeScalar\n",
    "from typing import Union\n",
    "from datetime import date, datetime\n",
    "from numpy.core import datetime64\n",
    "\n",
    "Date = Union[DatetimeScalar, Timestamp, date, datetime64]\n",
    "TODAY = Timestamp.today().date()\n"
   ],
   "id": "3fdb007ae193895a"
  },
  {
   "cell_type": "markdown",
   "metadata": {},
   "source": [
    "### Calendário (DayCounts)\n",
    "Copie aqui a definição completa da classe `DayCounts`"
   ],
   "id": "1407eed45532878f"
  },
  {
   "cell_type": "code",
   "execution_count": null,
   "metadata": {},
   "outputs": [],
   "source": [
    "# from calendars import DayCounts\n",
    "# [cole aqui o conteúdo completo da classe DayCounts]"
   ],
   "id": "b24ddca2a8d0e702"
  },
  {
   "cell_type": "markdown",
   "metadata": {},
   "source": [
    "### Bonds do Tesouro (LTN e NTNF)"
   ],
   "id": "b3558ccdea1520d8"
  },
  {
   "cell_type": "code",
   "execution_count": null,
   "metadata": {},
   "outputs": [],
   "source": [
    "# from government_bonds import LTN, NTNF\n",
    "# [cole aqui o conteúdo das classes LTN e NTNF]"
   ],
   "id": "91b7e95ee99e8efd"
  },
  {
   "cell_type": "markdown",
   "metadata": {},
   "source": [
    "### Modelos de Curva - Bootstrapping e Nelson-Siegel-Svensson"
   ],
   "id": "bdd552bbaf641ca9"
  },
  {
   "cell_type": "code",
   "execution_count": null,
   "metadata": {},
   "outputs": [],
   "source": [
    "# from curve_models import CurveBootstrap, NelsonSiegelSvensson\n",
    "# [cole aqui as classes CurveBootstrap e NSS]"
   ],
   "id": "6094bc6505bc83b0"
  },
  {
   "cell_type": "markdown",
   "metadata": {},
   "source": [
    "### Execução Principal: Geração da Curva e Visualização"
   ],
   "id": "82c264aa82955f1f"
  },
  {
   "cell_type": "code",
   "execution_count": null,
   "metadata": {},
   "outputs": [],
   "source": [
    "import numpy as np\n",
    "import pandas as pd\n",
    "import matplotlib.pyplot as plt\n",
    "from datetime import date\n",
    "from calendars import DayCounts\n",
    "from calendars.custom_date_types import TODAY\n",
    "from curve_models import CurveBootstrap, NelsonSiegelSvensson\n",
    "from government_bonds import LTN, NTNF\n",
    "\n",
    "# Data de referência\n",
    "ref_date = date(2025, 6, 19)\n",
    "\n",
    "# ----- Dados reais dos títulos -----\n",
    "ltn_expires = [datetime.date(2025, 7, 1), datetime.date(2025, 10, 1), datetime.date(2026, 1, 1), datetime.date(2026, 4, 1), datetime.date(2026, 7, 1)]\n",
    "ltn_yields = [0.146624, 0.146472, 0.147051, 0.146134, 0.144697]\n",
    "\n",
    "ntnf_expires = [datetime.date(2027, 1, 1), datetime.date(2029, 1, 1), datetime.date(2031, 1, 1), datetime.date(2033, 1, 1), datetime.date(2035, 1, 1)]\n",
    "ntnf_yields = [0.139805, 0.137469, 0.139788, 0.139175, 0.140181]\n",
    "\n",
    "# ----- Objetos de títulos -----\n",
    "ltn_prices, ltn_cash_flows = [], []\n",
    "for T, y in zip(ltn_expires, ltn_yields):\n",
    "    bond = LTN(expiry=T, rate=y, ref_date=ref_date)\n",
    "    ltn_prices.append(bond.price)\n",
    "    ltn_cash_flows.append(pd.Series(index=[T], data=[bond.principal]))\n",
    "\n",
    "ntnf_prices, ntnf_cash_flows = [], []\n",
    "for T, y in zip(ntnf_expires, ntnf_yields):\n",
    "    bond = NTNF(expiry=T, rate=y, ref_date=ref_date)\n",
    "    ntnf_prices.append(bond.price)\n",
    "    ntnf_cash_flows.append(bond.cash_flows)\n",
    "\n",
    "# ----- Bootstrapping da curva zero-cupom -----\n",
    "all_prices = ltn_prices + ntnf_prices\n",
    "all_cash_flows = ltn_cash_flows + ntnf_cash_flows\n",
    "cb = CurveBootstrap(prices=all_prices, cash_flows=all_cash_flows, ref_date=ref_date)\n",
    "zero_curve = cb.zero_curve.to_frame('zero')\n",
    "\n",
    "# ----- Curvas de referência observadas -----\n",
    "dc = DayCounts('bus/252', calendar='cdr_anbima')\n",
    "ltn_curve = pd.DataFrame(index=[dc.tf(ref_date, x) for x in ltn_expires],\n",
    "                         columns=['LTN'], data=ltn_yields)\n",
    "ntnf_curve = pd.DataFrame(index=[dc.tf(ref_date, x) for x in ntnf_expires],\n",
    "                          columns=['NTNF'], data=ntnf_yields)\n",
    "\n",
    "# ----- Nelson-Siegel-Svensson Fit -----\n",
    "nss = NelsonSiegelSvensson(prices=all_prices, cash_flows=all_cash_flows, ref_date=ref_date)\n",
    "nss_curve = pd.Series(index=zero_curve.index,\n",
    "                      data=[nss.rate_for_ytm(betas=nss.betas, ytm=t) for t in zero_curve.index],\n",
    "                      name='nss')\n",
    "\n",
    "# ----- Juntar curvas -----\n",
    "curves = pd.concat([zero_curve, ltn_curve, ntnf_curve, nss_curve.to_frame()], axis=1).sort_index()\n",
    "\n",
    "# ----- Plot -----\n",
    "plt.figure(figsize=(15, 10))\n",
    "plt.plot(curves.index, curves['zero'], label='Curva Zero (Bootstrap)', marker='o')\n",
    "plt.plot(curves.index, curves['nss'], label='Curva Ajustada (NSS)', marker='^')\n",
    "plt.plot(curves.index, curves['LTN'], label='LTN Observada', linestyle='--', marker='x')\n",
    "plt.plot(curves.index, curves['NTNF'], label='NTNF Observada', linestyle='--', marker='s')\n",
    "plt.title('Curva Zero-Cupom Brasil (Bootstrapping + NSS)', fontsize=20)\n",
    "plt.xlabel('Prazo (anos)', fontsize=16)\n",
    "plt.ylabel('Taxa (% a.a.)', fontsize=16)\n",
    "plt.grid(True)\n",
    "plt.legend(fontsize=14)\n",
    "plt.tight_layout()\n",
    "plt.show()\n"
   ],
   "id": "e8d675d63c1839e8"
  }
 ],
 "metadata": {
  "kernelspec": {
   "display_name": "Python 3",
   "language": "python",
   "name": "python3"
  },
  "language_info": {
   "codemirror_mode": {
    "name": "ipython",
    "version": 3
   },
   "file_extension": ".py",
   "mimetype": "text/x-python",
   "name": "python",
   "nbconvert_exporter": "python",
   "pygments_lexer": "ipython3",
   "version": "3.7.3"
  }
 },
 "nbformat": 4,
 "nbformat_minor": 5
}
